{
 "cells": [
  {
   "cell_type": "code",
   "execution_count": 1,
   "id": "cbe7720e-5e9a-4563-8a85-66e38cd585c7",
   "metadata": {},
   "outputs": [
    {
     "name": "stdout",
     "output_type": "stream",
     "text": [
      "Alex\n",
      "25\n"
     ]
    }
   ],
   "source": [
    "name = \"Alex\"   # Store the name \"Alex\" in the variable called \"name\"\n",
    "age = 25        # Store the age 25 in the variable called \"age\"\n",
    "\n",
    "print(name)     # Show the value in the variable \"name\". Prints \"Alex\"\n",
    "print(age)      # Show the value in the variable \"age\". Prints 25"
   ]
  },
  {
   "cell_type": "code",
   "execution_count": 2,
   "id": "a783c126",
   "metadata": {},
   "outputs": [],
   "source": [
    "name = \"Alex\"       # String\n",
    "age = 25            # Integer\n",
    "price = 199.99      # Float\n",
    "is_student = True   # Boolean\n",
    "\n",
    "next_year_age = age + 1                         # Addition\n",
    "discounted_price = price * 0.9                  # Multiplication with float\n",
    "double_price = price * 2                        # Multiplication\n",
    "\n",
    "is_adult = (age >= 18)                          # Comparison\n",
    "is_discount_lower = (discounted_price < price)  # Comparison"
   ]
  },
  {
   "cell_type": "code",
   "execution_count": 3,
   "id": "f384e164",
   "metadata": {},
   "outputs": [
    {
     "name": "stdout",
     "output_type": "stream",
     "text": [
      "Next year Alex will be: 26\n",
      "Discounted price is: 179.991\n",
      "Double the price is: 399.98\n",
      "Is Alex an adult? True\n",
      "Is the discount lower than the original price? True\n"
     ]
    }
   ],
   "source": [
    "print(\"Next year\", name, \"will be:\", next_year_age)\n",
    "print(\"Discounted price is:\", discounted_price)\n",
    "print(\"Double the price is:\", double_price)\n",
    "print(\"Is\", name, \"an adult?\", is_adult)\n",
    "print(\"Is the discount lower than the original price?\", is_discount_lower)"
   ]
  }
 ],
 "metadata": {
  "kernelspec": {
   "display_name": "base",
   "language": "python",
   "name": "python3"
  },
  "language_info": {
   "codemirror_mode": {
    "name": "ipython",
    "version": 3
   },
   "file_extension": ".py",
   "mimetype": "text/x-python",
   "name": "python",
   "nbconvert_exporter": "python",
   "pygments_lexer": "ipython3",
   "version": "3.12.7"
  }
 },
 "nbformat": 4,
 "nbformat_minor": 5
}
